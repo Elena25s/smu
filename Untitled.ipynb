{
 "cells": [
  {
   "cell_type": "markdown",
   "id": "b646024f-fc3b-4730-b612-9aa1b8212cdd",
   "metadata": {},
   "source": [
    "#how to print"
   ]
  },
  {
   "cell_type": "code",
   "execution_count": 9,
   "id": "3ada90af-a418-49ad-85e5-4a580d6dfdfb",
   "metadata": {},
   "outputs": [],
   "source": [
    "planet =\"earth\"\n",
    "diameter=12742"
   ]
  },
  {
   "cell_type": "code",
   "execution_count": 11,
   "id": "0687f998-5b57-48c4-9c3a-d1e21ec65459",
   "metadata": {},
   "outputs": [],
   "source": [
    "z=8"
   ]
  },
  {
   "cell_type": "code",
   "execution_count": 13,
   "id": "3d84e51c-f19e-4c3a-bb2a-1ba8222a14a9",
   "metadata": {},
   "outputs": [],
   "source": [
    "y=7"
   ]
  },
  {
   "cell_type": "code",
   "execution_count": 15,
   "id": "495828cd-ad5a-4c8a-a7f7-c1c6288b8da6",
   "metadata": {},
   "outputs": [
    {
     "data": {
      "text/plain": [
       "12742"
      ]
     },
     "execution_count": 15,
     "metadata": {},
     "output_type": "execute_result"
    }
   ],
   "source": [
    "diameter"
   ]
  },
  {
   "cell_type": "code",
   "execution_count": 17,
   "id": "e2bb1c99-e1c0-431a-b2e6-24f4b24955b3",
   "metadata": {},
   "outputs": [
    {
     "data": {
      "text/plain": [
       "int"
      ]
     },
     "execution_count": 17,
     "metadata": {},
     "output_type": "execute_result"
    }
   ],
   "source": [
    "type (diameter)"
   ]
  },
  {
   "cell_type": "code",
   "execution_count": 21,
   "id": "7efbf1a2-927b-45ba-aac4-fefdcbae01dc",
   "metadata": {},
   "outputs": [
    {
     "data": {
      "text/plain": [
       "'earth'"
      ]
     },
     "execution_count": 21,
     "metadata": {},
     "output_type": "execute_result"
    }
   ],
   "source": [
    "planet"
   ]
  },
  {
   "cell_type": "code",
   "execution_count": 40,
   "id": "a7820f8f-f84c-4988-bf8b-6a58e5f57290",
   "metadata": {},
   "outputs": [
    {
     "name": "stdout",
     "output_type": "stream",
     "text": [
      "the diameter ofearth is 12742\n"
     ]
    }
   ],
   "source": [
    "print(\"the diameter of{variable1} is {variable2}\".format(variable1=planet,variable2=diameter))"
   ]
  },
  {
   "cell_type": "code",
   "execution_count": 48,
   "id": "9980e22f-65ba-447d-a50b-94dc142d953f",
   "metadata": {},
   "outputs": [
    {
     "name": "stdout",
     "output_type": "stream",
     "text": [
      "the diameter of earth is 12742\n"
     ]
    }
   ],
   "source": [
    "print(\"the diameter of \"+ planet + \" is \"+str(diameter))"
   ]
  },
  {
   "cell_type": "code",
   "execution_count": 52,
   "id": "41bff093-ea72-40e8-b89e-9b55edd9c6ea",
   "metadata": {},
   "outputs": [
    {
     "name": "stdout",
     "output_type": "stream",
     "text": [
      "the diameter ofearth is 12742\n"
     ]
    }
   ],
   "source": [
    "    print(f\"the diameter of{planet} is {diameter}\")"
   ]
  },
  {
   "cell_type": "markdown",
   "id": "47509171-d975-47a2-a00c-2c8d805678dd",
   "metadata": {},
   "source": [
    "datatypes"
   ]
  },
  {
   "cell_type": "code",
   "execution_count": null,
   "id": "bef27a01-5670-4381-be67-4d75d3ead036",
   "metadata": {},
   "outputs": [],
   "source": [
    "set() {}\n",
    "str() \"\"  ''\n",
    "tuple() ()\n",
    "list() []\n",
    "dict() {\"key\":\"value\"}\n",
    "bool()\n"
   ]
  },
  {
   "cell_type": "code",
   "execution_count": null,
   "id": "413e5260-93ef-4eff-827f-7eb1d8f0a0fc",
   "metadata": {},
   "outputs": [],
   "source": []
  },
  {
   "cell_type": "code",
   "execution_count": 75,
   "id": "69896ba1-ee32-46f2-b514-920caf0114b5",
   "metadata": {},
   "outputs": [
    {
     "ename": "NameError",
     "evalue": "name 'a' is not defined",
     "output_type": "error",
     "traceback": [
      "\u001b[1;31m---------------------------------------------------------------------------\u001b[0m",
      "\u001b[1;31mNameError\u001b[0m                                 Traceback (most recent call last)",
      "Cell \u001b[1;32mIn[75], line 1\u001b[0m\n\u001b[1;32m----> 1\u001b[0m my_set \u001b[38;5;241m=\u001b[39m {\u001b[38;5;241m1\u001b[39m,\u001b[38;5;241m2\u001b[39m,\u001b[38;5;241m3\u001b[39m,\u001b[38;5;241m4\u001b[39m,\u001b[38;5;241m5\u001b[39m,\u001b[38;5;241m1\u001b[39m,\u001b[38;5;241m2\u001b[39m,\u001b[38;5;124m\"\u001b[39m\u001b[38;5;124ma\u001b[39m\u001b[38;5;124m\"\u001b[39m,\u001b[38;5;124m\"\u001b[39m\u001b[38;5;124mb\u001b[39m\u001b[38;5;124m\"\u001b[39m,\u001b[38;5;124m\"\u001b[39m\u001b[38;5;124mc\u001b[39m\u001b[38;5;124m\"\u001b[39m, \u001b[38;5;124m\"\u001b[39m\u001b[38;5;124ma\u001b[39m\u001b[38;5;124m\"\u001b[39m,\u001b[38;5;241m7\u001b[39m,a,b,c,d}\n",
      "\u001b[1;31mNameError\u001b[0m: name 'a' is not defined"
     ]
    }
   ],
   "source": [
    "my_set = {1,2,3,4,5,1,2,\"a\",\"b\",\"c\", \"a\",7,a,b,c,d}\n",
    "    "
   ]
  },
  {
   "cell_type": "code",
   "execution_count": 69,
   "id": "826b8d70-2eed-4295-aeea-424581beb780",
   "metadata": {},
   "outputs": [
    {
     "ename": "NameError",
     "evalue": "name 'my_set' is not defined",
     "output_type": "error",
     "traceback": [
      "\u001b[1;31m---------------------------------------------------------------------------\u001b[0m",
      "\u001b[1;31mNameError\u001b[0m                                 Traceback (most recent call last)",
      "Cell \u001b[1;32mIn[69], line 1\u001b[0m\n\u001b[1;32m----> 1\u001b[0m \u001b[38;5;28mtype\u001b[39m(my_set)\n",
      "\u001b[1;31mNameError\u001b[0m: name 'my_set' is not defined"
     ]
    }
   ],
   "source": [
    "type(my_set)"
   ]
  },
  {
   "cell_type": "code",
   "execution_count": null,
   "id": "b516ae22-c8b7-4da7-9a04-61c79994a5bb",
   "metadata": {},
   "outputs": [],
   "source": []
  },
  {
   "cell_type": "code",
   "execution_count": 85,
   "id": "a82f2695-6445-4b22-8b3f-fb352ef9a28f",
   "metadata": {},
   "outputs": [],
   "source": [
    "my_str='python is nice;%^@ 1 2 3 i like it'"
   ]
  },
  {
   "cell_type": "code",
   "execution_count": 87,
   "id": "d9f5665c-e9b6-41bb-afca-48a4fa4ca385",
   "metadata": {},
   "outputs": [
    {
     "data": {
      "text/plain": [
       "str"
      ]
     },
     "execution_count": 87,
     "metadata": {},
     "output_type": "execute_result"
    }
   ],
   "source": [
    "type(my_str)"
   ]
  },
  {
   "cell_type": "code",
   "execution_count": 91,
   "id": "218f6823-e3a1-49d6-9b22-5858e53d67f9",
   "metadata": {},
   "outputs": [
    {
     "data": {
      "text/plain": [
       "'h'"
      ]
     },
     "execution_count": 91,
     "metadata": {},
     "output_type": "execute_result"
    }
   ],
   "source": [
    "my_str[3]"
   ]
  },
  {
   "cell_type": "code",
   "execution_count": 93,
   "id": "0f6f9bac-1cbb-4add-9e99-2eadd253a5e5",
   "metadata": {},
   "outputs": [
    {
     "data": {
      "text/plain": [
       "'Python is nice;%^@ 1 2 3 i like it'"
      ]
     },
     "execution_count": 93,
     "metadata": {},
     "output_type": "execute_result"
    }
   ],
   "source": [
    "my_str.capitalize()"
   ]
  },
  {
   "cell_type": "code",
   "execution_count": 95,
   "id": "4dcda881-b806-4ec6-a2e2-926e216ba784",
   "metadata": {},
   "outputs": [
    {
     "data": {
      "text/plain": [
       "'python is nick;%^@ 1 2 3 i likk it'"
      ]
     },
     "execution_count": 95,
     "metadata": {},
     "output_type": "execute_result"
    }
   ],
   "source": [
    "my_str.replace(\"e\", \"k\")"
   ]
  },
  {
   "cell_type": "code",
   "execution_count": 97,
   "id": "0c6619cf-9b9c-4f49-9cc4-9a649dc2e71f",
   "metadata": {},
   "outputs": [
    {
     "data": {
      "text/plain": [
       "'PYTHON IS NICE;%^@ 1 2 3 I LIKE IT'"
      ]
     },
     "execution_count": 97,
     "metadata": {},
     "output_type": "execute_result"
    }
   ],
   "source": [
    "my_str.upper()"
   ]
  },
  {
   "cell_type": "code",
   "execution_count": 99,
   "id": "90f8ff16-9f76-4637-8ec8-bcd77d21507b",
   "metadata": {},
   "outputs": [
    {
     "data": {
      "text/plain": [
       "['python', 'is', 'nice;%^@', '1', '2', '3', 'i', 'like', 'it']"
      ]
     },
     "execution_count": 99,
     "metadata": {},
     "output_type": "execute_result"
    }
   ],
   "source": [
    "my_str.split()"
   ]
  },
  {
   "cell_type": "code",
   "execution_count": 101,
   "id": "5400bda2-096f-4e70-9ecd-afe5baf2c308",
   "metadata": {},
   "outputs": [
    {
     "data": {
      "text/plain": [
       "['python is nice;%^@ 1 2 3 i like it']"
      ]
     },
     "execution_count": 101,
     "metadata": {},
     "output_type": "execute_result"
    }
   ],
   "source": [
    "my_str.split(':')"
   ]
  },
  {
   "cell_type": "markdown",
   "id": "66bfeffd-24cb-45ea-b005-24e0aeec8677",
   "metadata": {},
   "source": [
    "list"
   ]
  },
  {
   "cell_type": "code",
   "execution_count": 111,
   "id": "a5b12912-187d-474a-9edf-c2ace324ec2b",
   "metadata": {},
   "outputs": [],
   "source": [
    "my_list=[1,2,3,4,5,\"a\",\"b\",\"c\",\"d\",\"e\"]"
   ]
  },
  {
   "cell_type": "code",
   "execution_count": 113,
   "id": "2d1cb613-3784-47c4-9430-7a6718c95dbf",
   "metadata": {},
   "outputs": [
    {
     "data": {
      "text/plain": [
       "list"
      ]
     },
     "execution_count": 113,
     "metadata": {},
     "output_type": "execute_result"
    }
   ],
   "source": [
    "type(my_list)"
   ]
  },
  {
   "cell_type": "code",
   "execution_count": 115,
   "id": "0ace6578-8b4b-4b6d-acf6-24a3e853e1f0",
   "metadata": {},
   "outputs": [
    {
     "data": {
      "text/plain": [
       "'e'"
      ]
     },
     "execution_count": 115,
     "metadata": {},
     "output_type": "execute_result"
    }
   ],
   "source": [
    "my_list.pop()"
   ]
  },
  {
   "cell_type": "code",
   "execution_count": 119,
   "id": "eaf8585a-fcbc-4107-9672-68c6663f6ac4",
   "metadata": {},
   "outputs": [
    {
     "data": {
      "text/plain": [
       "5"
      ]
     },
     "execution_count": 119,
     "metadata": {},
     "output_type": "execute_result"
    }
   ],
   "source": [
    "my_list.index(\"a\")"
   ]
  },
  {
   "cell_type": "code",
   "execution_count": 123,
   "id": "71cf2069-3702-4d1e-a462-4222ab431c4a",
   "metadata": {},
   "outputs": [],
   "source": [
    "my_list.append(\"erth\")"
   ]
  },
  {
   "cell_type": "code",
   "execution_count": 125,
   "id": "31af751c-c326-4ddb-8365-a006798b68d6",
   "metadata": {},
   "outputs": [
    {
     "data": {
      "text/plain": [
       "[1, 2, 3, 4, 5, 'a', 'b', 'c', 'd', 'erth', 'erth']"
      ]
     },
     "execution_count": 125,
     "metadata": {},
     "output_type": "execute_result"
    }
   ],
   "source": [
    "my_list"
   ]
  },
  {
   "cell_type": "code",
   "execution_count": 127,
   "id": "118c8eaa-d1c5-4428-b4cc-e1dd03ddb76f",
   "metadata": {},
   "outputs": [],
   "source": [
    "my_list.extend([\"jack\",\"charly\"])"
   ]
  },
  {
   "cell_type": "code",
   "execution_count": 129,
   "id": "92974160-192c-4bbf-9271-49f282b06158",
   "metadata": {},
   "outputs": [
    {
     "data": {
      "text/plain": [
       "[1, 2, 3, 4, 5, 'a', 'b', 'c', 'd', 'erth', 'erth', 'jack', 'charly']"
      ]
     },
     "execution_count": 129,
     "metadata": {},
     "output_type": "execute_result"
    }
   ],
   "source": [
    "my_list"
   ]
  },
  {
   "cell_type": "code",
   "execution_count": 139,
   "id": "707eef97-39f1-47d1-a53e-3c53a409c0d1",
   "metadata": {},
   "outputs": [],
   "source": [
    "my_dict={\"jan\":\"julia\",\n",
    "         \"feb\":\"charli\",\n",
    "\"mar\":\"drew\",\n",
    "\"apr\":\"jon\"}\n"
   ]
  },
  {
   "cell_type": "code",
   "execution_count": 141,
   "id": "d22ae903-51af-4254-bd05-1f3c24c6de8b",
   "metadata": {},
   "outputs": [
    {
     "data": {
      "text/plain": [
       "dict"
      ]
     },
     "execution_count": 141,
     "metadata": {},
     "output_type": "execute_result"
    }
   ],
   "source": [
    "type(my_dict)"
   ]
  },
  {
   "cell_type": "code",
   "execution_count": 143,
   "id": "b5497003-eb27-4786-97e2-ebdcb4e2388b",
   "metadata": {},
   "outputs": [
    {
     "data": {
      "text/plain": [
       "dict_keys(['jan', 'feb', 'mar', 'apr'])"
      ]
     },
     "execution_count": 143,
     "metadata": {},
     "output_type": "execute_result"
    }
   ],
   "source": [
    "my_dict.keys()"
   ]
  },
  {
   "cell_type": "code",
   "execution_count": 145,
   "id": "e13c4370-d395-432b-bc86-a62e43cae69f",
   "metadata": {},
   "outputs": [
    {
     "data": {
      "text/plain": [
       "dict_values(['julia', 'charli', 'drew', 'jon'])"
      ]
     },
     "execution_count": 145,
     "metadata": {},
     "output_type": "execute_result"
    }
   ],
   "source": [
    "my_dict.values()"
   ]
  },
  {
   "cell_type": "code",
   "execution_count": 149,
   "id": "148ee247-6e4d-4c6e-abcd-d28706cdea79",
   "metadata": {},
   "outputs": [
    {
     "data": {
      "text/plain": [
       "dict_items([('jan', 'julia'), ('feb', 'charli'), ('mar', 'drew'), ('apr', 'jon')])"
      ]
     },
     "execution_count": 149,
     "metadata": {},
     "output_type": "execute_result"
    }
   ],
   "source": [
    "my_dict.items()"
   ]
  },
  {
   "cell_type": "code",
   "execution_count": 151,
   "id": "cf8e1ae6-53a2-4aeb-ad07-0c2747eb5b48",
   "metadata": {},
   "outputs": [
    {
     "data": {
      "text/plain": [
       "'jon'"
      ]
     },
     "execution_count": 151,
     "metadata": {},
     "output_type": "execute_result"
    }
   ],
   "source": [
    "my_dict[\"apr\"]"
   ]
  },
  {
   "cell_type": "code",
   "execution_count": 153,
   "id": "aa4240ef-2185-4818-a682-5f234677f88c",
   "metadata": {},
   "outputs": [
    {
     "data": {
      "text/plain": [
       "range(0, 5)"
      ]
     },
     "execution_count": 153,
     "metadata": {},
     "output_type": "execute_result"
    }
   ],
   "source": [
    "range(5)"
   ]
  },
  {
   "cell_type": "code",
   "execution_count": 155,
   "id": "d98335c1-8b8b-480a-b4f5-06534bedf1fd",
   "metadata": {},
   "outputs": [
    {
     "data": {
      "text/plain": [
       "[0, 1, 2, 3, 4]"
      ]
     },
     "execution_count": 155,
     "metadata": {},
     "output_type": "execute_result"
    }
   ],
   "source": [
    "list(range(5))"
   ]
  },
  {
   "cell_type": "code",
   "execution_count": 165,
   "id": "c164a836-0a41-498e-b128-7020c5831381",
   "metadata": {},
   "outputs": [],
   "source": [
    "city=\"dallas\""
   ]
  },
  {
   "cell_type": "code",
   "execution_count": null,
   "id": "a02aea56-724f-4e7a-8d5b-40459ece8a00",
   "metadata": {},
   "outputs": [],
   "source": []
  }
 ],
 "metadata": {
  "kernelspec": {
   "display_name": "Python [conda env:base] *",
   "language": "python",
   "name": "conda-base-py"
  },
  "language_info": {
   "codemirror_mode": {
    "name": "ipython",
    "version": 3
   },
   "file_extension": ".py",
   "mimetype": "text/x-python",
   "name": "python",
   "nbconvert_exporter": "python",
   "pygments_lexer": "ipython3",
   "version": "3.12.7"
  }
 },
 "nbformat": 4,
 "nbformat_minor": 5
}
